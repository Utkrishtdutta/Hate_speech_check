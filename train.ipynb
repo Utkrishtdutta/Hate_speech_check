{
 "cells": [
  {
   "cell_type": "code",
   "execution_count": 23,
   "metadata": {},
   "outputs": [],
   "source": [
    "import pandas as pd\n",
    "import matplotlib.pyplot as plt\n",
    "import re"
   ]
  },
  {
   "cell_type": "code",
   "execution_count": 24,
   "metadata": {},
   "outputs": [
    {
     "data": {
      "text/html": [
       "<div>\n",
       "<style scoped>\n",
       "    .dataframe tbody tr th:only-of-type {\n",
       "        vertical-align: middle;\n",
       "    }\n",
       "\n",
       "    .dataframe tbody tr th {\n",
       "        vertical-align: top;\n",
       "    }\n",
       "\n",
       "    .dataframe thead th {\n",
       "        text-align: right;\n",
       "    }\n",
       "</style>\n",
       "<table border=\"1\" class=\"dataframe\">\n",
       "  <thead>\n",
       "    <tr style=\"text-align: right;\">\n",
       "      <th></th>\n",
       "      <th>count</th>\n",
       "      <th>hate_speech_count</th>\n",
       "      <th>offensive_language_count</th>\n",
       "      <th>neither_count</th>\n",
       "      <th>class</th>\n",
       "      <th>tweet</th>\n",
       "    </tr>\n",
       "  </thead>\n",
       "  <tbody>\n",
       "    <tr>\n",
       "      <th>20957</th>\n",
       "      <td>3</td>\n",
       "      <td>0</td>\n",
       "      <td>3</td>\n",
       "      <td>0</td>\n",
       "      <td>1</td>\n",
       "      <td>So just chill hoe</td>\n",
       "    </tr>\n",
       "    <tr>\n",
       "      <th>20530</th>\n",
       "      <td>3</td>\n",
       "      <td>0</td>\n",
       "      <td>2</td>\n",
       "      <td>1</td>\n",
       "      <td>1</td>\n",
       "      <td>Riding wit my old dude .. Dis nicca bangin #Fr...</td>\n",
       "    </tr>\n",
       "    <tr>\n",
       "      <th>10497</th>\n",
       "      <td>3</td>\n",
       "      <td>0</td>\n",
       "      <td>3</td>\n",
       "      <td>0</td>\n",
       "      <td>1</td>\n",
       "      <td>I hate when bitches think you expect something...</td>\n",
       "    </tr>\n",
       "    <tr>\n",
       "      <th>24707</th>\n",
       "      <td>3</td>\n",
       "      <td>1</td>\n",
       "      <td>2</td>\n",
       "      <td>0</td>\n",
       "      <td>1</td>\n",
       "      <td>will u love dat nigga even if he lose it all.....</td>\n",
       "    </tr>\n",
       "    <tr>\n",
       "      <th>14809</th>\n",
       "      <td>3</td>\n",
       "      <td>1</td>\n",
       "      <td>2</td>\n",
       "      <td>0</td>\n",
       "      <td>1</td>\n",
       "      <td>RT @CuhCuhCuh: I got NO love for bitches or bi...</td>\n",
       "    </tr>\n",
       "    <tr>\n",
       "      <th>19383</th>\n",
       "      <td>3</td>\n",
       "      <td>0</td>\n",
       "      <td>0</td>\n",
       "      <td>3</td>\n",
       "      <td>2</td>\n",
       "      <td>RT @jrsalzman: Buzzfeed males who live in the ...</td>\n",
       "    </tr>\n",
       "    <tr>\n",
       "      <th>8882</th>\n",
       "      <td>3</td>\n",
       "      <td>0</td>\n",
       "      <td>3</td>\n",
       "      <td>0</td>\n",
       "      <td>1</td>\n",
       "      <td>Dudes stay trying to hit on someone elses bitc...</td>\n",
       "    </tr>\n",
       "    <tr>\n",
       "      <th>453</th>\n",
       "      <td>3</td>\n",
       "      <td>0</td>\n",
       "      <td>3</td>\n",
       "      <td>0</td>\n",
       "      <td>1</td>\n",
       "      <td>\"HOW DO YOU KNOW MY TWITTER PASSWORD\" bitch pl...</td>\n",
       "    </tr>\n",
       "    <tr>\n",
       "      <th>6109</th>\n",
       "      <td>6</td>\n",
       "      <td>2</td>\n",
       "      <td>4</td>\n",
       "      <td>0</td>\n",
       "      <td>1</td>\n",
       "      <td>@iAM_tRoyal5 @Briscoefunnyguy @I_GotOne @_Kaee...</td>\n",
       "    </tr>\n",
       "  </tbody>\n",
       "</table>\n",
       "</div>"
      ],
      "text/plain": [
       "       count  hate_speech_count  offensive_language_count  neither_count  \\\n",
       "20957      3                  0                         3              0   \n",
       "20530      3                  0                         2              1   \n",
       "10497      3                  0                         3              0   \n",
       "24707      3                  1                         2              0   \n",
       "14809      3                  1                         2              0   \n",
       "19383      3                  0                         0              3   \n",
       "8882       3                  0                         3              0   \n",
       "453        3                  0                         3              0   \n",
       "6109       6                  2                         4              0   \n",
       "\n",
       "       class                                              tweet  \n",
       "20957      1                                  So just chill hoe  \n",
       "20530      1  Riding wit my old dude .. Dis nicca bangin #Fr...  \n",
       "10497      1  I hate when bitches think you expect something...  \n",
       "24707      1  will u love dat nigga even if he lose it all.....  \n",
       "14809      1  RT @CuhCuhCuh: I got NO love for bitches or bi...  \n",
       "19383      2  RT @jrsalzman: Buzzfeed males who live in the ...  \n",
       "8882       1  Dudes stay trying to hit on someone elses bitc...  \n",
       "453        1  \"HOW DO YOU KNOW MY TWITTER PASSWORD\" bitch pl...  \n",
       "6109       1  @iAM_tRoyal5 @Briscoefunnyguy @I_GotOne @_Kaee...  "
      ]
     },
     "execution_count": 24,
     "metadata": {},
     "output_type": "execute_result"
    }
   ],
   "source": [
    "train_data= pd.read_csv('train.csv')\n",
    "train_data.sample(9)"
   ]
  },
  {
   "cell_type": "code",
   "execution_count": 25,
   "metadata": {},
   "outputs": [
    {
     "data": {
      "text/plain": [
       "<Axes: xlabel='class'>"
      ]
     },
     "execution_count": 25,
     "metadata": {},
     "output_type": "execute_result"
    },
    {
     "data": {
      "image/png": "[encoded data removed]",
      "text/plain": [
       "<Figure size 640x480 with 1 Axes>"
      ]
     },
     "metadata": {},
     "output_type": "display_data"
    }
   ],
   "source": [
    "''' 0 : Hate speech\n",
    "    1 : offensive_language\n",
    "    2 : Neither hate nor offencive \n",
    "'''\n",
    "train_data['class'].value_counts().plot(kind='bar')"
   ]
  },
  {
   "cell_type": "code",
   "execution_count": 26,
   "metadata": {},
   "outputs": [
    {
     "data": {
      "text/plain": [
       "<Axes: xlabel='count'>"
      ]
     },
     "execution_count": 26,
     "metadata": {},
     "output_type": "execute_result"
    },
    {
     "data": {
      "image/png": "[encoded data removed]",
      "text/plain": [
       "<Figure size 640x480 with 1 Axes>"
      ]
     },
     "metadata": {},
     "output_type": "display_data"
    }
   ],
   "source": [
    "''' Count of annotations '''\n",
    "train_data['count'].value_counts().plot(kind='bar')"
   ]
  },
  {
   "cell_type": "code",
   "execution_count": 27,
   "metadata": {},
   "outputs": [
    {
     "data": {
      "text/plain": [
       "<Axes: xlabel='hate_speech_count'>"
      ]
     },
     "execution_count": 27,
     "metadata": {},
     "output_type": "execute_result"
    },
    {
     "data": {
      "image/png": "[encoded data removed]",
      "text/plain": [
       "<Figure size 640x480 with 1 Axes>"
      ]
     },
     "metadata": {},
     "output_type": "display_data"
    }
   ],
   "source": [
    "train_data['hate_speech_count'].value_counts().plot(kind='bar')"
   ]
  },
  {
   "cell_type": "code",
   "execution_count": 28,
   "metadata": {},
   "outputs": [
    {
     "data": {
      "text/plain": [
       "<Axes: xlabel='offensive_language_count'>"
      ]
     },
     "execution_count": 28,
     "metadata": {},
     "output_type": "execute_result"
    },
    {
     "data": {
      "image/png": "[encoded data removed]",
      "text/plain": [
       "<Figure size 640x480 with 1 Axes>"
      ]
     },
     "metadata": {},
     "output_type": "display_data"
    }
   ],
   "source": [
    "train_data['offensive_language_count'].value_counts().plot(kind='bar')"
   ]
  },
  {
   "cell_type": "code",
   "execution_count": 29,
   "metadata": {},
   "outputs": [
    {
     "data": {
      "text/plain": [
       "<Axes: xlabel='neither_count'>"
      ]
     },
     "execution_count": 29,
     "metadata": {},
     "output_type": "execute_result"
    },
    {
     "data": {
      "image/png": "[encoded data removed]",
      "text/plain": [
       "<Figure size 640x480 with 1 Axes>"
      ]
     },
     "metadata": {},
     "output_type": "display_data"
    }
   ],
   "source": [
    "train_data['neither_count'].value_counts().plot(kind='bar')"
   ]
  },
  {
   "cell_type": "markdown",
   "metadata": {},
   "source": [
    "## Clean the data\n",
    "1. Remove the annotation.(!!)\n",
    "2. Remove the username.\n",
    "3. Remove the url.\n",
    "4. Remove random no. like(&#128514)"
   ]
  },
  {
   "cell_type": "code",
   "execution_count": 30,
   "metadata": {},
   "outputs": [],
   "source": [
    "from nltk.corpus import stopwords\n",
    "from nltk.stem import WordNetLemmatizer\n",
    "from nltk import word_tokenize\n",
    "stopword_set = stopwords.words('english')\n",
    "lemma = WordNetLemmatizer()\n"
   ]
  },
  {
   "cell_type": "code",
   "execution_count": 31,
   "metadata": {},
   "outputs": [],
   "source": [
    "def remove_stopword_lemmatize(sent):\n",
    "    sent = word_tokenize(sent)\n",
    "    new_sent = ''\n",
    "    for word in sent:\n",
    "        if word not in stopword_set:\n",
    "            new_sent+=lemma.lemmatize(word,pos='v')+ ' '\n",
    "    return new_sent"
   ]
  },
  {
   "cell_type": "code",
   "execution_count": 32,
   "metadata": {},
   "outputs": [],
   "source": [
    "def clean_tweet(x):\n",
    "    pattern = r'@\\w*\\b'\n",
    "    no_pattern = r'&#\\w*\\b'\n",
    "    x = re.sub(no_pattern,'',x)\n",
    "    x = re.sub(pattern,'',x)\n",
    "    x = x.replace('RT ','')\n",
    "    x = x.replace('NFN ','')\n",
    "    x = re.sub(r'[|!:\";\\'\\.*~,\\-?]','',x)\n",
    "    return x"
   ]
  },
  {
   "cell_type": "code",
   "execution_count": 33,
   "metadata": {},
   "outputs": [],
   "source": [
    "train_data['tweet'] = train_data['tweet'].apply(clean_tweet)\n",
    "train_data['tweet'] = train_data['tweet'].apply(lambda x:x.lower())"
   ]
  },
  {
   "cell_type": "code",
   "execution_count": 34,
   "metadata": {},
   "outputs": [],
   "source": [
    "train_data['tweet'] = train_data['tweet'].apply(remove_stopword_lemmatize)"
   ]
  },
  {
   "cell_type": "code",
   "execution_count": 35,
   "metadata": {},
   "outputs": [],
   "source": [
    "labels = train_data['class']\n",
    "train_data.drop('class',axis=1,inplace=True)"
   ]
  },
  {
   "cell_type": "markdown",
   "metadata": {},
   "source": [
    "## Split the dataset"
   ]
  },
  {
   "cell_type": "code",
   "execution_count": 37,
   "metadata": {},
   "outputs": [
    {
     "data": {
      "text/plain": [
       "0        woman shouldnt complain clean house & amp man ...\n",
       "1        boy dats coldtyga dwn bad cuffin dat hoe 1st p...\n",
       "2             dawg ever fuck bitch start cry confuse shit \n",
       "3                                        look like tranny \n",
       "4          shit hear might true might faker bitch tell ya \n",
       "                               ...                        \n",
       "24778    yous muthafin lie right tl trash mine bible sc...\n",
       "24779    youve go break wrong heart baby drive redneck ...\n",
       "24780    young buck wan na eat dat nigguh like aint fuc...\n",
       "24781                      youu get wild bitch tellin lie \n",
       "24782    ruffle ntac eileen dahlia beautiful color comb...\n",
       "Name: tweet, Length: 24783, dtype: object"
      ]
     },
     "execution_count": 37,
     "metadata": {},
     "output_type": "execute_result"
    }
   ],
   "source": [
    "train_data['tweet']"
   ]
  },
  {
   "cell_type": "code",
   "execution_count": 38,
   "metadata": {},
   "outputs": [],
   "source": [
    "from sklearn.model_selection import train_test_split\n",
    "x_train,y_train,x_test,y_test = train_test_split(train_data,labels,test_size=0.2)"
   ]
  },
  {
   "cell_type": "markdown",
   "metadata": {},
   "source": [
    "### Define and make model\n",
    "- create token of words\n",
    "- convert token into embedding\n",
    "- use this token to train our model"
   ]
  },
  {
   "cell_type": "code",
   "execution_count": 39,
   "metadata": {},
   "outputs": [
    {
     "data": {
      "text/plain": [
       "(41, 22563)"
      ]
     },
     "execution_count": 39,
     "metadata": {},
     "output_type": "execute_result"
    }
   ],
   "source": [
    "def get_max_len(t):\n",
    "    max_len = 0\n",
    "    total_words = []\n",
    "    for i in t:\n",
    "        max_len = max(max_len,len(i.split(' ')))\n",
    "        total_words.extend(i.split(' '))\n",
    "    return max_len,len(set(total_words))\n",
    "\n",
    "max_len,total_words = get_max_len(list(train_data['tweet']))\n",
    "max_len,total_words"
   ]
  },
  {
   "cell_type": "code",
   "execution_count": 40,
   "metadata": {},
   "outputs": [
    {
     "name": "stdout",
     "output_type": "stream",
     "text": [
      "WARNING:tensorflow:From c:\\Users\\Utkrisht.Dutta\\Downloads\\hate_speech_detection\\venv\\Lib\\site-packages\\keras\\src\\losses.py:2976: The name tf.losses.sparse_softmax_cross_entropy is deprecated. Please use tf.compat.v1.losses.sparse_softmax_cross_entropy instead.\n",
      "\n",
      "WARNING:tensorflow:From c:\\Users\\Utkrisht.Dutta\\Downloads\\hate_speech_detection\\venv\\Lib\\site-packages\\keras\\src\\backend.py:873: The name tf.get_default_graph is deprecated. Please use tf.compat.v1.get_default_graph instead.\n",
      "\n"
     ]
    }
   ],
   "source": [
    "from tensorflow.keras.layers import TextVectorization,Embedding\n",
    "import tensorflow\n",
    "tensorflow.random.set_seed(42)\n",
    "\n",
    "text_vector = TextVectorization(max_tokens=total_words,\n",
    "                                output_mode = 'int',\n",
    "                                output_sequence_length = max_len,\n",
    "                                split = 'whitespace',\n",
    "                                standardize = 'lower_and_strip_punctuation')"
   ]
  },
  {
   "cell_type": "code",
   "execution_count": 41,
   "metadata": {},
   "outputs": [],
   "source": [
    "text_embedding = Embedding(input_dim = total_words,\n",
    "                           input_length = max_len,\n",
    "                           output_dim=128)"
   ]
  },
  {
   "cell_type": "code",
   "execution_count": 42,
   "metadata": {},
   "outputs": [
    {
     "name": "stdout",
     "output_type": "stream",
     "text": [
      "WARNING:tensorflow:From c:\\Users\\Utkrisht.Dutta\\Downloads\\hate_speech_detection\\venv\\Lib\\site-packages\\keras\\src\\utils\\tf_utils.py:492: The name tf.ragged.RaggedTensorValue is deprecated. Please use tf.compat.v1.ragged.RaggedTensorValue instead.\n",
      "\n"
     ]
    }
   ],
   "source": [
    "text_vector.adapt(train_data['tweet'])"
   ]
  },
  {
   "cell_type": "code",
   "execution_count": 43,
   "metadata": {},
   "outputs": [
    {
     "data": {
      "text/plain": [
       "<tf.Tensor: shape=(1, 41), dtype=int64, numpy=\n",
       "array([[ 5138,  5138,  3708,  1123,   149,  1575, 10885,  4902,  1132,\n",
       "           17, 21698,   199,     0,     0,     0,     0,     0,     0,\n",
       "            0,     0,     0,     0,     0,     0,     0,     0,     0,\n",
       "            0,     0,     0,     0,     0,     0,     0,     0,     0,\n",
       "            0,     0,     0,     0,     0]], dtype=int64)>"
      ]
     },
     "execution_count": 43,
     "metadata": {},
     "output_type": "execute_result"
    }
   ],
   "source": [
    "text_vector([clean_tweet(train_data.loc[159,'tweet'])])"
   ]
  },
  {
   "cell_type": "code",
   "execution_count": 44,
   "metadata": {},
   "outputs": [
    {
     "data": {
      "text/plain": [
       "<tf.Tensor: shape=(1, 41, 128), dtype=float32, numpy=\n",
       "array([[[-0.01344587, -0.04283437, -0.03548784, ..., -0.03626213,\n",
       "          0.03937991,  0.03994626],\n",
       "        [-0.01344587, -0.04283437, -0.03548784, ..., -0.03626213,\n",
       "          0.03937991,  0.03994626],\n",
       "        [ 0.01535926,  0.03210765, -0.03432342, ...,  0.00272598,\n",
       "          0.03416265,  0.01311108],\n",
       "        ...,\n",
       "        [-0.01908718,  0.03372705,  0.00665418, ..., -0.03826704,\n",
       "         -0.00867229,  0.03287416],\n",
       "        [-0.01908718,  0.03372705,  0.00665418, ..., -0.03826704,\n",
       "         -0.00867229,  0.03287416],\n",
       "        [-0.01908718,  0.03372705,  0.00665418, ..., -0.03826704,\n",
       "         -0.00867229,  0.03287416]]], dtype=float32)>"
      ]
     },
     "execution_count": 44,
     "metadata": {},
     "output_type": "execute_result"
    }
   ],
   "source": [
    "text_embedding(text_vector([clean_tweet(train_data.loc[159,'tweet'])]))"
   ]
  },
  {
   "cell_type": "code",
   "execution_count": 45,
   "metadata": {},
   "outputs": [],
   "source": [
    "x_tweet = x_train['tweet']\n",
    "y_tweet = y_train['tweet']\n",
    "# x_test = tensorflow.one_hot(x_test, 3)\n",
    "# y_test = tensorflow.one_hot(y_test, 3)"
   ]
  },
  {
   "cell_type": "code",
   "execution_count": 46,
   "metadata": {},
   "outputs": [],
   "source": [
    "from tensorflow.keras.layers import LSTM,Input,Dense,Dropout\n",
    "\n",
    "input = Input(shape=(1,),dtype='string')\n",
    "x = text_vector(input)\n",
    "x = text_embedding(x)\n",
    "x = LSTM(32,activation='tanh')(x)\n",
    "x = Dropout(0.5)(x)\n",
    "x = Dense(16,activation='tanh')(x)\n",
    "x = Dropout(0.5)(x)\n",
    "output = Dense(3,activation='softmax')(x)\n",
    "\n",
    "model = tensorflow.keras.Model(input,output,name='LSTM_model')\n"
   ]
  },
  {
   "cell_type": "code",
   "execution_count": 47,
   "metadata": {},
   "outputs": [
    {
     "name": "stdout",
     "output_type": "stream",
     "text": [
      "WARNING:tensorflow:From c:\\Users\\Utkrisht.Dutta\\Downloads\\hate_speech_detection\\venv\\Lib\\site-packages\\keras\\src\\optimizers\\__init__.py:309: The name tf.train.Optimizer is deprecated. Please use tf.compat.v1.train.Optimizer instead.\n",
      "\n"
     ]
    }
   ],
   "source": [
    "model.compile(loss='sparse_categorical_crossentropy',\n",
    "              optimizer='Adam',\n",
    "              metrics=['accuracy'])"
   ]
  },
  {
   "cell_type": "code",
   "execution_count": 48,
   "metadata": {},
   "outputs": [
    {
     "name": "stdout",
     "output_type": "stream",
     "text": [
      "Model: \"LSTM_model\"\n",
      "_________________________________________________________________\n",
      " Layer (type)                Output Shape              Param #   \n",
      "=================================================================\n",
      " input_1 (InputLayer)        [(None, 1)]               0         \n",
      "                                                                 \n",
      " text_vectorization (TextVe  (None, 41)                0         \n",
      " ctorization)                                                    \n",
      "                                                                 \n",
      " embedding (Embedding)       (None, 41, 128)           2888064   \n",
      "                                                                 \n",
      " lstm (LSTM)                 (None, 32)                20608     \n",
      "                                                                 \n",
      " dropout (Dropout)           (None, 32)                0         \n",
      "                                                                 \n",
      " dense (Dense)               (None, 16)                528       \n",
      "                                                                 \n",
      " dropout_1 (Dropout)         (None, 16)                0         \n",
      "                                                                 \n",
      " dense_1 (Dense)             (None, 3)                 51        \n",
      "                                                                 \n",
      "=================================================================\n",
      "Total params: 2909251 (11.10 MB)\n",
      "Trainable params: 2909251 (11.10 MB)\n",
      "Non-trainable params: 0 (0.00 Byte)\n",
      "_________________________________________________________________\n"
     ]
    }
   ],
   "source": [
    "model.summary()"
   ]
  },
  {
   "cell_type": "code",
   "execution_count": 49,
   "metadata": {},
   "outputs": [
    {
     "name": "stdout",
     "output_type": "stream",
     "text": [
      "Epoch 1/10\n",
      "WARNING:tensorflow:From c:\\Users\\Utkrisht.Dutta\\Downloads\\hate_speech_detection\\venv\\Lib\\site-packages\\keras\\src\\engine\\base_layer_utils.py:384: The name tf.executing_eagerly_outside_functions is deprecated. Please use tf.compat.v1.executing_eagerly_outside_functions instead.\n",
      "\n",
      "620/620 [==============================] - 31s 44ms/step - loss: 0.7031 - accuracy: 0.7673 - val_loss: 0.4525 - val_accuracy: 0.8650\n",
      "Epoch 2/10\n",
      "620/620 [==============================] - 26s 42ms/step - loss: 0.4617 - accuracy: 0.8424 - val_loss: 0.4317 - val_accuracy: 0.8600\n",
      "Epoch 3/10\n",
      "620/620 [==============================] - 26s 41ms/step - loss: 0.4353 - accuracy: 0.8556 - val_loss: 0.4353 - val_accuracy: 0.8673\n",
      "Epoch 4/10\n",
      "620/620 [==============================] - 26s 41ms/step - loss: 0.4792 - accuracy: 0.8676 - val_loss: 0.4796 - val_accuracy: 0.8606\n",
      "Epoch 5/10\n",
      "620/620 [==============================] - 25s 41ms/step - loss: 0.4720 - accuracy: 0.8677 - val_loss: 0.4634 - val_accuracy: 0.8636\n",
      "Epoch 6/10\n",
      "620/620 [==============================] - 25s 41ms/step - loss: 0.5058 - accuracy: 0.8205 - val_loss: 0.4182 - val_accuracy: 0.8372\n",
      "Epoch 7/10\n",
      "620/620 [==============================] - 26s 41ms/step - loss: 0.4311 - accuracy: 0.8382 - val_loss: 0.4121 - val_accuracy: 0.8477\n",
      "Epoch 8/10\n",
      "620/620 [==============================] - 26s 42ms/step - loss: 0.4460 - accuracy: 0.8598 - val_loss: 0.4638 - val_accuracy: 0.8612\n",
      "Epoch 9/10\n",
      "620/620 [==============================] - 24s 39ms/step - loss: 0.4556 - accuracy: 0.8686 - val_loss: 0.4614 - val_accuracy: 0.8608\n",
      "Epoch 10/10\n",
      "620/620 [==============================] - 24s 38ms/step - loss: 0.4560 - accuracy: 0.8674 - val_loss: 0.4589 - val_accuracy: 0.8614\n"
     ]
    }
   ],
   "source": [
    "model_hist = model.fit(x_tweet,x_test,epochs=10,batch_size=32,validation_data=(y_tweet,y_test))"
   ]
  },
  {
   "cell_type": "code",
   "execution_count": 50,
   "metadata": {},
   "outputs": [
    {
     "data": {
      "image/png": "[encoded data removed]",
      "text/plain": [
       "<Figure size 640x480 with 1 Axes>"
      ]
     },
     "metadata": {},
     "output_type": "display_data"
    }
   ],
   "source": [
    "hist = model.history.history\n",
    "plt.plot(hist['loss'],'r',linewidth=2, label='Training loss')\n",
    "plt.plot(hist['val_loss'], 'g',linewidth=2, label='Validation loss')\n",
    "plt.title('Hate Speech and Offensive language Model')\n",
    "plt.xlabel('Epochs numbers')\n",
    "plt.ylabel('MSE numbers')\n",
    "plt.show()"
   ]
  },
  {
   "cell_type": "code",
   "execution_count": 28,
   "metadata": {},
   "outputs": [
    {
     "name": "stdout",
     "output_type": "stream",
     "text": [
      "INFO:tensorflow:Assets written to: hate_speech_detection_model\\assets\n"
     ]
    },
    {
     "name": "stderr",
     "output_type": "stream",
     "text": [
      "INFO:tensorflow:Assets written to: hate_speech_detection_model\\assets\n"
     ]
    }
   ],
   "source": [
    "model.save(\"hate_speech_detection_model\")"
   ]
  },
  {
   "cell_type": "code",
   "execution_count": 29,
   "metadata": {},
   "outputs": [
    {
     "name": "stdout",
     "output_type": "stream",
     "text": [
      "1/1 [==============================] - 1s 939ms/step\n"
     ]
    },
    {
     "data": {
      "text/plain": [
       "array([[0.01622369, 0.08707634, 0.8967    ]], dtype=float32)"
      ]
     },
     "execution_count": 29,
     "metadata": {},
     "output_type": "execute_result"
    }
   ],
   "source": [
    "model.predict([\"you are a great person.\"])"
   ]
  }
 ],
 "metadata": {
  "kernelspec": {
   "display_name": "venv",
   "language": "python",
   "name": "python3"
  },
  "language_info": {
   "codemirror_mode": {
    "name": "ipython",
    "version": 3
   },
   "file_extension": ".py",
   "mimetype": "text/x-python",
   "name": "python",
   "nbconvert_exporter": "python",
   "pygments_lexer": "ipython3",
   "version": "3.11.4"
  }
 },
 "nbformat": 4,
 "nbformat_minor": 2
}
